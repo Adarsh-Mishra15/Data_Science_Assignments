{
 "cells": [
  {
   "cell_type": "code",
   "execution_count": 7,
   "id": "07825269-b4fd-45da-9fb8-b255854702bf",
   "metadata": {},
   "outputs": [
    {
     "name": "stdout",
     "output_type": "stream",
     "text": [
      "[('Virat Kohli', 24936), ('Jack Kallis', 25534), ('Ricky Ponting', 27483), ('Sachin Tendulkar', 34357)]\n"
     ]
    }
   ],
   "source": [
    "#1\n",
    "\n",
    "list_1 = [(\"Sachin Tendulkar\" , 34357) , (\"Ricky Ponting\" , 27483) , (\"Jack Kallis\" , 25534), (\"Virat Kohli\" , 24936)]\n",
    "\n",
    "list_1.sort(key=lambda x: x[1])\n",
    "print(list_1)\n",
    "    "
   ]
  },
  {
   "cell_type": "code",
   "execution_count": 4,
   "id": "0f05fab1-8a04-4464-8862-63c958abffec",
   "metadata": {},
   "outputs": [
    {
     "data": {
      "text/plain": [
       "[1, 4, 9, 16, 25, 36, 49, 64, 81, 100]"
      ]
     },
     "execution_count": 4,
     "metadata": {},
     "output_type": "execute_result"
    }
   ],
   "source": [
    "#2\n",
    "\n",
    "list_2 = [1,2,3,4,5,6,7,8,9,10]\n",
    "\n",
    "list(map(lambda x:x**2,list_2))"
   ]
  },
  {
   "cell_type": "code",
   "execution_count": 10,
   "id": "62de73e2-e8ae-42a8-ae12-3eeeec1d180c",
   "metadata": {},
   "outputs": [
    {
     "data": {
      "text/plain": [
       "('1', '2', '3', '4', '5', '6', '7', '8', '9', '10')"
      ]
     },
     "execution_count": 10,
     "metadata": {},
     "output_type": "execute_result"
    }
   ],
   "source": [
    "#3\n",
    "\n",
    "list_3 = [1,2,3,4,5,6,7,8,9,10]\n",
    "\n",
    "tuple(map(lambda x: str(x),list_3))"
   ]
  },
  {
   "cell_type": "code",
   "execution_count": 2,
   "id": "7f9a48c6-6e6d-46be-9a7a-3eedd63d570e",
   "metadata": {},
   "outputs": [
    {
     "data": {
      "text/plain": [
       "15511210043330985984000000"
      ]
     },
     "execution_count": 2,
     "metadata": {},
     "output_type": "execute_result"
    }
   ],
   "source": [
    "#4\n",
    "\n",
    "from functools import reduce\n",
    "\n",
    "list_4=[]\n",
    "for i in range(1,26):\n",
    "    list_4.append(i)\n",
    "    \n",
    "reduce(lambda x,y:x*y,list_4)"
   ]
  },
  {
   "cell_type": "code",
   "execution_count": 4,
   "id": "fffbd0f7-0949-49ec-9735-654709941214",
   "metadata": {},
   "outputs": [
    {
     "data": {
      "text/plain": [
       "[6, 60, 90, 120]"
      ]
     },
     "execution_count": 4,
     "metadata": {},
     "output_type": "execute_result"
    }
   ],
   "source": [
    "#5\n",
    "\n",
    "list_5 = [2,3,6,9,27,60,90,120,55,46]\n",
    "\n",
    "list(filter(lambda x: x%2==0 and x%3==0, list_5))"
   ]
  },
  {
   "cell_type": "code",
   "execution_count": null,
   "id": "8afccb7c-5cb4-4035-979f-e97bcabe43b1",
   "metadata": {},
   "outputs": [],
   "source": [
    "#6\n",
    "\n",
    "list_6 = ["
   ]
  }
 ],
 "metadata": {
  "kernelspec": {
   "display_name": "Python 3 (ipykernel)",
   "language": "python",
   "name": "python3"
  },
  "language_info": {
   "codemirror_mode": {
    "name": "ipython",
    "version": 3
   },
   "file_extension": ".py",
   "mimetype": "text/x-python",
   "name": "python",
   "nbconvert_exporter": "python",
   "pygments_lexer": "ipython3",
   "version": "3.10.8"
  }
 },
 "nbformat": 4,
 "nbformat_minor": 5
}
