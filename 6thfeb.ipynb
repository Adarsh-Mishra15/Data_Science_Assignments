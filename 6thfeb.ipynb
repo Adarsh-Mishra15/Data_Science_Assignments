{
 "cells": [
  {
   "cell_type": "code",
   "execution_count": 2,
   "id": "2a61e6ca-c6d9-42f9-adc2-70d860533229",
   "metadata": {},
   "outputs": [
    {
     "name": "stdout",
     "output_type": "stream",
     "text": [
      "4134711838987085478833841242112000\n"
     ]
    }
   ],
   "source": [
    "# 1\n",
    "\n",
    "\n",
    "# using simple recursion\n",
    "def num_list(list1):\n",
    "    product=1\n",
    "    l=[]\n",
    "    for i in list1:\n",
    "        if type(i) == int or type(i) == float:\n",
    "            product*=i\n",
    "        elif type(i) ==tuple or type(i) == list or type(i) == set:\n",
    "            product*=num_list(i)\n",
    "        elif type(i) == dict:\n",
    "            product*=num_list(i.keys())\n",
    "            product*=num_list(i.values())\n",
    "    return product\n",
    "\n",
    "l1 = [1,2,3,4, [44,55,66, True], False, (34,56,78,89,34), {1,2,3,3,2,1}, {1:34, \"key2\": [55, 67, 78, 89], 4: (45, 22, 61, 34)}, [56, 'data science'], 'Machine Learning']\n",
    "\n",
    "result = num_list(l1)\n",
    "print(result)"
   ]
  },
  {
   "cell_type": "code",
   "execution_count": null,
   "id": "d268423c-99d3-4340-a2f7-92e841c77aa0",
   "metadata": {},
   "outputs": [],
   "source": [
    "#2\n",
    "\n",
    "# using ascii values and simple maths \n",
    "def encrypt_msg(s):\n",
    "    s=s.lower()\n",
    "    message=\"\"\n",
    "    for i in s:\n",
    "        # ord() function to convert from char to ascii value\n",
    "        _ascii=ord(i)\n",
    "        x=_ascii-97\n",
    "        if i==' ':\n",
    "            message+='$'\n",
    "        elif _ascii>=97 and _ascii<=122:\n",
    "       # chr() function is used to convert from int/ascii value to char  \n",
    "            c=122-x\n",
    "            ch=chr(c)\n",
    "            message+=ch\n",
    "        else:\n",
    "            message+=i\n",
    "    return message\n",
    "    \n",
    "msg= \"I want to become a Data Scientist.\"\n",
    "encrypted_msg=encrypt_msg(msg)\n",
    "print(\"The encrypted messsage is: \"+encrypted_msg)"
   ]
  },
  {
   "cell_type": "code",
   "execution_count": null,
   "id": "0bce2ee3-e9b5-4e1e-8592-2e9358bba90b",
   "metadata": {},
   "outputs": [],
   "source": []
  }
 ],
 "metadata": {
  "kernelspec": {
   "display_name": "Python 3 (ipykernel)",
   "language": "python",
   "name": "python3"
  },
  "language_info": {
   "codemirror_mode": {
    "name": "ipython",
    "version": 3
   },
   "file_extension": ".py",
   "mimetype": "text/x-python",
   "name": "python",
   "nbconvert_exporter": "python",
   "pygments_lexer": "ipython3",
   "version": "3.10.8"
  }
 },
 "nbformat": 4,
 "nbformat_minor": 5
}
