{
 "cells": [
  {
   "cell_type": "code",
   "execution_count": 6,
   "id": "98e595e8-2784-4bb3-abae-f72019904f05",
   "metadata": {},
   "outputs": [
    {
     "name": "stdout",
     "output_type": "stream",
     "text": [
      "car\n",
      "80\n",
      "20\n"
     ]
    }
   ],
   "source": [
    "#1\n",
    "\n",
    "class vehicle:\n",
    "    \n",
    "    def __init__(self,name,max_speed , avg):\n",
    "        self.name = name\n",
    "        self.speed = max_speed\n",
    "        self.avg = avg\n",
    "        \n",
    "car1 = vehicle(\"car\",80,20)\n",
    "print(car1.name)\n",
    "print(car1.speed)\n",
    "print(car1.avg)"
   ]
  },
  {
   "cell_type": "code",
   "execution_count": null,
   "id": "bf231352-a867-4a27-a6f5-d4a3a83eb764",
   "metadata": {},
   "outputs": [],
   "source": [
    "#2\n",
    "\n",
    "class car(vehicle):\n",
    "    \n",
    "    def seating_capacity(self , capacity):\n",
    "         self.capacity=capacity\n",
    "        # return as a string \n",
    "        return \"{} has a seat capacity of {}\".format(self.name_of_vehicle,self.capacity)\n",
    "    \n",
    "car2 = car(\"Fortuner\" , 11)\n",
    "print(car2.seating_capacity(7))"
   ]
  },
  {
   "cell_type": "code",
   "execution_count": null,
   "id": "e688c745-fe65-438c-a8dd-8e24543194c4",
   "metadata": {},
   "outputs": [],
   "source": [
    "#3\n",
    "\n",
    "# Multiple inheritance\n",
    "\"\"\"                   It is a feature of object-oriented programming (OOP)\n",
    "where a single class can inherit properties and methods from multiple parent classes. \n",
    "This means that a class can have multiple superclasses and can inherit attributes and behaviors from all of them.\n",
    "\"\"\"\n",
    "\n",
    "class parent1:\n",
    "    def method1(self):\n",
    "        print(\"parent1 method1\")\n",
    "\n",
    "class parent2:\n",
    "    def method2(self):\n",
    "        print(\"parent2 method2\")\n",
    "# inheriting multiple classes\n",
    "class child(parent1, parent2):\n",
    "    def method3(self):\n",
    "        print(\"child method3\")\n",
    "\n",
    "c = child()\n",
    "c.method1()\n",
    "c.method2()\n",
    "c.method3()"
   ]
  },
  {
   "cell_type": "code",
   "execution_count": null,
   "id": "5bd1c163-22e7-4d45-9ca6-0b6e127b8901",
   "metadata": {},
   "outputs": [],
   "source": [
    "#4\n",
    "\n",
    "\"\"\"\n",
    "Getter and setter methods are used in object-oriented programming to define \n",
    "how an object's attributes can be accessed and modified.\n",
    "They are commonly used in Python to control the access to an object's attributes \n",
    "and to ensure that the attributes are in a valid state.\n",
    "\"\"\"\n",
    "\n",
    "# A getter method is a method that is used to retrieve the value of an object's attribute.\n",
    "# A setter method is a method that is used to set the value of an object's attribute.\n",
    "\n",
    "class Person:\n",
    "    def __init__(self, name):\n",
    "        self._name = name\n",
    "\n",
    "    # Getter method\n",
    "    def get_name(self):\n",
    "        return self._name\n",
    "\n",
    "    # Setter method\n",
    "    def set_name(self, name):\n",
    "        self._name = name\n",
    "\n",
    "    # Property decorator to access the getter method as an attribute\n",
    "    @property\n",
    "    def name(self):\n",
    "        return self.get_name()\n",
    "\n",
    "    # Property decorator to access the setter method as an attribute\n",
    "    @name.setter\n",
    "    def name(self, name):\n",
    "        self.set_name(name)\n",
    "        \n",
    "person = Person(\"Shivam\")\n",
    "print(person.name) \n",
    "person.name = \"Adarsh\"\n",
    "print(person.name) "
   ]
  },
  {
   "cell_type": "code",
   "execution_count": null,
   "id": "e7d9ab99-624e-4567-9986-7dc89e42a6eb",
   "metadata": {},
   "outputs": [],
   "source": [
    "#5\n",
    "\n",
    "# Method overriding \n",
    "\"\"\"                It is a feature in Object-Oriented Programming (OOP) \n",
    "where a subclass provides a new implementation for a method that is already defined in its superclass.\n",
    "This new implementation in the subclass is said to override the original method. \n",
    "When an object of the subclass is called to execute the overridden method, \n",
    "the new implementation in the subclass is executed instead of the original implementation in the superclass.\n",
    "\"\"\"\n",
    "\n",
    "class Animal:\n",
    "    def make_sound(self):\n",
    "        print(\"The animal makes a sound\")\n",
    "\n",
    "class Dog(Animal):\n",
    "    def make_sound(self):\n",
    "        print(\"The dog barks\")\n",
    "\n",
    "dog = Dog()\n",
    "dog.make_sound()"
   ]
  }
 ],
 "metadata": {
  "kernelspec": {
   "display_name": "Python 3 (ipykernel)",
   "language": "python",
   "name": "python3"
  },
  "language_info": {
   "codemirror_mode": {
    "name": "ipython",
    "version": 3
   },
   "file_extension": ".py",
   "mimetype": "text/x-python",
   "name": "python",
   "nbconvert_exporter": "python",
   "pygments_lexer": "ipython3",
   "version": "3.10.8"
  }
 },
 "nbformat": 4,
 "nbformat_minor": 5
}
