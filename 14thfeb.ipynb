{
 "cells": [
  {
   "cell_type": "code",
   "execution_count": 2,
   "id": "c7378b8e-41d4-4102-a40a-9f91d820f7ca",
   "metadata": {},
   "outputs": [
    {
     "name": "stdout",
     "output_type": "stream",
     "text": [
      "test1 1 printing\n",
      "test1 2 printing\n",
      "test1 3 printing\n"
     ]
    }
   ],
   "source": [
    "#1\n",
    "\n",
    "import logging\n",
    "logging.basicConfig(filename=\"14FebInfo.log\", level=logging.INFO, format=\"%(asctime)s %(name)s %(message)s\")\n",
    "\"\"\"\n",
    "Multithreading is a mechanism by which multiple threads of execution are created and run concurrently\n",
    "within a single process. Each thread runs independently of the others, allowing a program to perform\n",
    "multiple tasks at the same time.\n",
    "\"\"\"\n",
    "\"\"\"\n",
    "Multithreading is used when there is a need to perform multiple tasks simultaneously,\n",
    "and when one task is dependent on the output of another task. For example, if a program needs to \n",
    "download multiple files from the internet and process them simultaneously, multithreading can be \n",
    "used to achieve this.\n",
    "\"\"\"\n",
    "\n",
    "# The module used to handle threads in Python is called threading. \n",
    "\"\"\"\n",
    "The threading module provides a Thread class, which can be used to create a new thread.\n",
    "Threads can be started, stopped, and joined using methods provided by the Thread class.\n",
    "The module provides a number of synchronization primitives, such as Lock, RLock, Semaphore, Event,\n",
    "and Condition, which can be used to coordinate the execution of threads and avoid race conditions.\n",
    "\"\"\"\n",
    "# Example:\n",
    "\n",
    "import threading\n",
    "\n",
    "def test1(id) :\n",
    "    print(\"test1 %d printing\" %(id+1))\n",
    "#         list comprehension for creating three threads\n",
    "thread1 = [threading.Thread(target=test1 , args  = (i,)) for i in range(3)]\n",
    "for t in thread1:\n",
    "#     starting thread\n",
    "    t.start()\n",
    "    "
   ]
  },
  {
   "cell_type": "code",
   "execution_count": 3,
   "id": "036e4d8b-6336-47db-8a25-3f6f5ea4fc88",
   "metadata": {},
   "outputs": [
    {
     "name": "stdout",
     "output_type": "stream",
     "text": [
      "Thread started.\n",
      "Thread started.\n",
      "Number of active threads: 8\n",
      "Current thread: <Thread(Thread-11 (my_thread2), started 140500610815552)>\n",
      "Thread started.\n",
      "Thread started.\n",
      "Thread name: MainThread\n",
      "Thread name: IOPub\n",
      "Thread name: Heartbeat\n",
      "Thread name: Thread-3 (_watch_pipe_fd)\n",
      "Thread name: Thread-4 (_watch_pipe_fd)\n",
      "Thread name: Control\n",
      "Thread name: IPythonHistorySavingThread\n",
      "Thread name: Thread-2\n"
     ]
    },
    {
     "name": "stderr",
     "output_type": "stream",
     "text": [
      "/tmp/ipykernel_425/990253680.py:23: DeprecationWarning: activeCount() is deprecated, use active_count() instead\n",
      "  print(f\"Number of active threads: {threading.activeCount()}\")\n",
      "/tmp/ipykernel_425/990253680.py:28: DeprecationWarning: currentThread() is deprecated, use current_thread() instead\n",
      "  print(f\"Current thread: {threading.currentThread()}\")\n",
      "/tmp/ipykernel_425/990253680.py:46: DeprecationWarning: getName() is deprecated, get the name attribute instead\n",
      "  print(f\"Thread name: {thread.getName()}\")\n"
     ]
    }
   ],
   "source": [
    "#2\n",
    "\n",
    "\"\"\"\n",
    "The threading module is used in Python for creating and managing threads.\n",
    "It provides a higher level of abstraction compared to the lower-level thread module, \n",
    "making it easier to work with threads in a Python program. The threading module provides a Thread class,\n",
    "which can be used to create a new thread, and a number of synchronization primitives that can be used to \n",
    "coordinate the execution of threads.\n",
    "\"\"\"\n",
    "# activeCount(): This function returns the number of thread objects that are currently active in the program.\n",
    "\n",
    "import threading\n",
    "\n",
    "def my_thread1():\n",
    "    print(\"Thread started.\")\n",
    "\n",
    "t1 = threading.Thread(target=my_thread1)\n",
    "t2 = threading.Thread(target=my_thread1)\n",
    "\n",
    "t1.start()\n",
    "t2.start()\n",
    "\n",
    "print(f\"Number of active threads: {threading.activeCount()}\")\n",
    "\n",
    "# currentThread(): This function returns a reference to the current thread object.\n",
    "\n",
    "def my_thread2():\n",
    "    print(f\"Current thread: {threading.currentThread()}\")\n",
    "\n",
    "t3 = threading.Thread(target=my_thread2)\n",
    "\n",
    "t3.start()\n",
    "\n",
    "# enumerate(): This function returns a list of all thread objects that are currently active in the program.\n",
    "\n",
    "def my_thread3():\n",
    "    print(\"Thread started.\")\n",
    "\n",
    "t4 = threading.Thread(target=my_thread3)\n",
    "t5 = threading.Thread(target=my_thread3)\n",
    "\n",
    "t4.start()\n",
    "t5.start()\n",
    "\n",
    "for thread in threading.enumerate():\n",
    "    print(f\"Thread name: {thread.getName()}\")"
   ]
  },
  {
   "cell_type": "code",
   "execution_count": 4,
   "id": "c5240042-9557-4c57-ae10-e42527e98e79",
   "metadata": {},
   "outputs": [
    {
     "name": "stdout",
     "output_type": "stream",
     "text": [
      "Thread started.\n",
      "Thread started.\n",
      "Thread started.\n",
      "Thread finished.\n",
      "Main thread finished.\n",
      "Thread is alive: False\n",
      "Thread started.\n",
      "Thread is alive: False\n",
      "Thread is alive: <bound method Thread.is_alive of <Thread(Thread-15 (my_thread), stopped 140500610815552)>>\n"
     ]
    }
   ],
   "source": [
    "#3\n",
    "\n",
    "\"\"\"\n",
    "run(): This function is called when a thread is started using the start() method.\n",
    "It contains the code that the thread should execute. This function should be overridden\n",
    "in a custom Thread subclass.\n",
    "\"\"\"\n",
    "\n",
    "import threading\n",
    "# inheriting the Thread class\n",
    "class MyThread(threading.Thread):\n",
    "    def run(self):\n",
    "        logging.info(\"demonstrate the run function used with start method\")\n",
    "        print(\"Thread started.\")\n",
    "\n",
    "t1 = MyThread()\n",
    "t1.start()\n",
    "\n",
    "\"\"\"\n",
    "start(): This method starts the execution of a thread. It creates a new thread and calls the run() \n",
    "method of the thread.\n",
    "\"\"\"\n",
    "\n",
    "def my_thread():\n",
    "    print(\"Thread started.\")\n",
    "logging.info(\"starting thread t1\")\n",
    "t1 = threading.Thread(target=my_thread)\n",
    "t1.start()\n",
    "\n",
    "\"\"\"\n",
    "join(): This method waits for the thread to complete its execution. \n",
    "It blocks the execution of the main thread until the thread has finished executing.\n",
    "\"\"\"\n",
    "\n",
    "def my_thread():\n",
    "    print(\"Thread started.\")\n",
    "    print(\"Thread finished.\")\n",
    "logging.info(\"starting thread t2\")\n",
    "t2 = threading.Thread(target=my_thread)\n",
    "t2.start()\n",
    "t2.join()\n",
    "\n",
    "print(\"Main thread finished.\")\n",
    "\n",
    "\"\"\"\n",
    "isAlive(): This method returns True if the thread is currently running and has not finished executing,\n",
    "and False otherwise.\n",
    "\"\"\"\n",
    "\n",
    "def my_thread():\n",
    "    print(\"Thread started.\")\n",
    "logging.info(\"starting thread t3\")\n",
    "t3 = threading.Thread(target=my_thread)\n",
    "print(f\"Thread is alive: {t1.is_alive()}\")\n",
    "\n",
    "t3.start()\n",
    "print(f\"Thread is alive: {t1.is_alive()}\")\n",
    "\n",
    "t3.join()\n",
    "print(f\"Thread is alive: {t1.is_alive}\")"
   ]
  },
  {
   "cell_type": "code",
   "execution_count": null,
   "id": "a2a8f0f3-1a3e-43e3-a884-723cfa37e1de",
   "metadata": {},
   "outputs": [],
   "source": [
    "#4\n",
    "\n",
    "import threading\n",
    "\n",
    "logging.info(\"Function to print a list of squares\")\n",
    "def print_squares():\n",
    "    squares = [x**2 for x in range(1, 6)]\n",
    "    print(\"Squares:\", squares)\n",
    "\n",
    "logging.info(\"Function to print a list of cubes\")\n",
    "def print_cubes():\n",
    "    cubes = [x**3 for x in range(1, 6)]\n",
    "    print(\"Cubes:\", cubes)\n",
    "\n",
    "logging.info(\"Create the threads\")\n",
    "t1 = threading.Thread(target=print_squares)\n",
    "t2 = threading.Thread(target=print_cubes)\n",
    "\n",
    "logging.info(\"Start the threads\")\n",
    "t1.start()\n",
    "t2.start()\n",
    "\n",
    "# Wait for the threads to finish\n",
    "t1.join()\n",
    "t2.join()\n",
    "\n",
    "# Print a message to indicate that the program has finished\n",
    "print(\"Program finished.\")"
   ]
  },
  {
   "cell_type": "code",
   "execution_count": 5,
   "id": "d591afb9-3457-463e-bf86-e744162d7732",
   "metadata": {},
   "outputs": [
    {
     "data": {
      "text/plain": [
       "'\\nComplexity:\\n        Multithreaded programs are often more complex than single-threaded programs, \\n        and are more difficult to write and debug.\\nSynchronization:\\n              When multiple threads access shared resources, it is important to ensure that they\\n              do not interfere with each other.\\nDeadlocks: \\n         Deadlocks can occur when two or more threads are waiting for each other to release a resource, \\n         and can result in a program hanging or crashing.\\nOverhead:\\n        The overhead of creating and managing threads can be significant, especially for\\n        short-lived or simple tasks.\\n'"
      ]
     },
     "execution_count": 5,
     "metadata": {},
     "output_type": "execute_result"
    }
   ],
   "source": [
    "#5\n",
    "\n",
    "# Multithreading is a technique that allows multiple threads of execution to run concurrently within a single process.\n",
    "\n",
    "    # Advantages:\n",
    "\"\"\"\n",
    "Increased CPU utilization:\n",
    "                    Multithreading allows a program to utilize multiple CPUs or CPU cores,\n",
    "                    which can result in increased overall performance and throughput.\n",
    "Improved responsiveness:\n",
    "                    By running certain tasks in separate threads, a program can remain responsive to user \n",
    "                    input and other events, even while performing long-running tasks in the background.\n",
    "Reduced latency: \n",
    "                Multithreading can reduce latency by allowing a program to perform I/O operations\n",
    "                in the background while other tasks are running.\n",
    "Efficient use of resources:\n",
    "                       By sharing resources such as memory and I/O devices, multithreading can allow a\n",
    "                       program to make more efficient use of system resources.\n",
    "\"\"\"\n",
    "# Disadvantages:\n",
    "\"\"\"\n",
    "Complexity:\n",
    "        Multithreaded programs are often more complex than single-threaded programs, \n",
    "        and are more difficult to write and debug.\n",
    "Synchronization:\n",
    "              When multiple threads access shared resources, it is important to ensure that they\n",
    "              do not interfere with each other.\n",
    "Deadlocks: \n",
    "         Deadlocks can occur when two or more threads are waiting for each other to release a resource, \n",
    "         and can result in a program hanging or crashing.\n",
    "Overhead:\n",
    "        The overhead of creating and managing threads can be significant, especially for\n",
    "        short-lived or simple tasks.\n",
    "\"\"\""
   ]
  },
  {
   "cell_type": "code",
   "execution_count": 6,
   "id": "285142a9-1f7e-46e2-a2f8-28a41b9bfb6b",
   "metadata": {},
   "outputs": [
    {
     "data": {
      "text/plain": [
       "'\\nRace conditions:\\n    A race condition is a situation where the behavior of a program depends on the timing and interleaving \\n    of its threads. \\n    For example, two threads, A and B, and a shared variable x. \\n    If thread A reads the value of x, performs some computation, and then writes the result back to x, while thread\\n    B does the same thing concurrently, the final value of x will depend on the order in which the threads execute.\\n'"
      ]
     },
     "execution_count": 6,
     "metadata": {},
     "output_type": "execute_result"
    }
   ],
   "source": [
    "#6\n",
    "\n",
    "\"\"\"\n",
    "Deadlocks:\n",
    "    A deadlock is a situation where two or more threads are waiting for each other to release a resource, \n",
    "    and as a result none of them can make progress.\n",
    "    For example, two threads, A and B, and two resources, X and Y. If thread A acquires \n",
    "    resource X and then tries to acquire resource Y,  while thread B acquires resource Y and then tries\n",
    "    to acquire resource X, a deadlock occur as both are waiting for the other to release its resource.\n",
    "\"\"\"\n",
    "\"\"\"\n",
    "Race conditions:\n",
    "    A race condition is a situation where the behavior of a program depends on the timing and interleaving \n",
    "    of its threads. \n",
    "    For example, two threads, A and B, and a shared variable x. \n",
    "    If thread A reads the value of x, performs some computation, and then writes the result back to x, while thread\n",
    "    B does the same thing concurrently, the final value of x will depend on the order in which the threads execute.\n",
    "\"\"\""
   ]
  },
  {
   "cell_type": "code",
   "execution_count": null,
   "id": "f0758180-fc86-490e-aa5b-bcac61d15268",
   "metadata": {},
   "outputs": [],
   "source": []
  }
 ],
 "metadata": {
  "kernelspec": {
   "display_name": "Python 3 (ipykernel)",
   "language": "python",
   "name": "python3"
  },
  "language_info": {
   "codemirror_mode": {
    "name": "ipython",
    "version": 3
   },
   "file_extension": ".py",
   "mimetype": "text/x-python",
   "name": "python",
   "nbconvert_exporter": "python",
   "pygments_lexer": "ipython3",
   "version": "3.10.8"
  }
 },
 "nbformat": 4,
 "nbformat_minor": 5
}
