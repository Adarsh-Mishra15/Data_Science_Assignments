{
 "cells": [
  {
   "cell_type": "code",
   "execution_count": 2,
   "id": "54c8a953-4af4-4192-91c4-a7539e6c6801",
   "metadata": {},
   "outputs": [],
   "source": [
    "import logging\n",
    "import pandas as pd\n",
    "\n",
    "logging.basicConfig(filename=\"23FebInfo.log\", level=logging.INFO, format=\"%(asctime)s %(name)s %(message)s\")\n"
   ]
  },
  {
   "cell_type": "code",
   "execution_count": 5,
   "id": "da806a7f-197c-4c57-b835-1b73acbf71ed",
   "metadata": {},
   "outputs": [
    {
     "data": {
      "text/plain": [
       "0     4\n",
       "1     8\n",
       "2    15\n",
       "3    16\n",
       "4    23\n",
       "5    42\n",
       "dtype: int64"
      ]
     },
     "execution_count": 5,
     "metadata": {},
     "output_type": "execute_result"
    }
   ],
   "source": [
    "#1\n",
    "list1 = [4,8,15,16,23,42]\n",
    "series1 = pd.Series(list1)\n",
    "series1"
   ]
  },
  {
   "cell_type": "code",
   "execution_count": 6,
   "id": "5ada9792-a094-41f4-8391-6db390ff34e9",
   "metadata": {},
   "outputs": [
    {
     "data": {
      "text/plain": [
       "0     1\n",
       "1     2\n",
       "2     3\n",
       "3     4\n",
       "4     5\n",
       "5     6\n",
       "6     7\n",
       "7     8\n",
       "8     9\n",
       "9    10\n",
       "dtype: int64"
      ]
     },
     "execution_count": 6,
     "metadata": {},
     "output_type": "execute_result"
    }
   ],
   "source": [
    "#2\n",
    "\n",
    "list2 = [1,2,3,4,5,6,7,8,9,10]\n",
    "series2  = pd.Series(list2)\n",
    "series2"
   ]
  },
  {
   "cell_type": "code",
   "execution_count": 8,
   "id": "cba66223-e44b-4435-9b08-da9fe59911c2",
   "metadata": {},
   "outputs": [
    {
     "data": {
      "text/html": [
       "<div>\n",
       "<style scoped>\n",
       "    .dataframe tbody tr th:only-of-type {\n",
       "        vertical-align: middle;\n",
       "    }\n",
       "\n",
       "    .dataframe tbody tr th {\n",
       "        vertical-align: top;\n",
       "    }\n",
       "\n",
       "    .dataframe thead th {\n",
       "        text-align: right;\n",
       "    }\n",
       "</style>\n",
       "<table border=\"1\" class=\"dataframe\">\n",
       "  <thead>\n",
       "    <tr style=\"text-align: right;\">\n",
       "      <th></th>\n",
       "      <th>Name</th>\n",
       "      <th>Age</th>\n",
       "      <th>Gender</th>\n",
       "    </tr>\n",
       "  </thead>\n",
       "  <tbody>\n",
       "    <tr>\n",
       "      <th>0</th>\n",
       "      <td>Alice</td>\n",
       "      <td>25</td>\n",
       "      <td>Female</td>\n",
       "    </tr>\n",
       "    <tr>\n",
       "      <th>1</th>\n",
       "      <td>Bob</td>\n",
       "      <td>30</td>\n",
       "      <td>Male</td>\n",
       "    </tr>\n",
       "    <tr>\n",
       "      <th>2</th>\n",
       "      <td>Claire</td>\n",
       "      <td>27</td>\n",
       "      <td>Female</td>\n",
       "    </tr>\n",
       "  </tbody>\n",
       "</table>\n",
       "</div>"
      ],
      "text/plain": [
       "     Name  Age  Gender\n",
       "0   Alice   25  Female\n",
       "1     Bob   30    Male\n",
       "2  Claire   27  Female"
      ]
     },
     "execution_count": 8,
     "metadata": {},
     "output_type": "execute_result"
    }
   ],
   "source": [
    "#3\n",
    "\n",
    "data = {\n",
    "    'Name':['Alice','Bob','Claire'],\n",
    "    'Age':[25,30,27],\n",
    "    'Gender':['Female','Male','Female']\n",
    "    \n",
    "}\n",
    "\n",
    "df = pd.DataFrame(data)\n",
    "df"
   ]
  },
  {
   "cell_type": "code",
   "execution_count": 9,
   "id": "08455a0d-a4b1-4d2d-86c9-6caf4dd28a79",
   "metadata": {},
   "outputs": [
    {
     "name": "stdout",
     "output_type": "stream",
     "text": [
      "0    25\n",
      "1    30\n",
      "2    27\n",
      "Name: Age, dtype: int64\n",
      "      Name  Gender  Age\n",
      "0  Samaira  Female   25\n",
      "1     asad    Male   30\n",
      "2   shivam    Male   27\n"
     ]
    }
   ],
   "source": [
    "#4\n",
    "\"\"\"\n",
    "A DataFrame is a two-dimensional tabular data structure with labeled axes (rows and columns). \n",
    "It can be thought of as a spreadsheet or a SQL table. Each column of a DataFrame is a Pandas Series object.\n",
    "\n",
    "A  Series is a one-dimensional labeled array that can hold data of any type.\n",
    " It can be thought of as a single column of a DataFrame.\n",
    "\"\"\"\n",
    "\n",
    "# create a Pandas Series\n",
    "ages = pd.Series([25, 30, 27], name=\"Age\")\n",
    "\n",
    "# create a Pandas DataFrame\n",
    "data = {\n",
    "    \"Name\": [\"Samaira\", \"asad\", \"shivam\"],\n",
    "    \"Gender\": [\"Female\", \"Male\", \"Male\"]\n",
    "}\n",
    "df = pd.DataFrame(data)\n",
    "\n",
    "logging.info(\"add the Age column to the DataFrame\")\n",
    "df[\"Age\"] = ages\n",
    "\n",
    "logging.info(\"print the Series and the DataFrame\")\n",
    "print(ages)\n",
    "print(df)"
   ]
  },
  {
   "cell_type": "code",
   "execution_count": 10,
   "id": "0cfa0f1f-6dbb-4531-b36d-b6d7c779e78b",
   "metadata": {},
   "outputs": [
    {
     "data": {
      "text/plain": [
       "'\\nPandas provides many functions to manipulate data in a DataFrame like:\\n\\nhead() and tail(): Used to display the first or last n rows of a DataFrame, respectively.\\n\\ninfo(): Used to display a summary of the DataFrame, including the number of rows and columns, \\nthe data types of each column, and whether there are any missing values.\\n\\ndescribe(): Used to generate descriptive statistics of the DataFrame, such as the count, mean, standard \\ndeviation, minimum, and maximum values of each numeric column.\\n\\nsort_values(): Used to sort the DataFrame by one or more columns. Example, df.sort_values(by=\"Name\")\\n\\ngroupby(): Used to group rows of the DataFrame by one or more columns and apply a function to each group.\\n Example, df.groupby(\"Gender\").mean() will group the rows of the DataFrame df by the \"Gender\" column \\n and calculate the mean of each numeric column for each group.\\n\\ndrop(): Used to remove one or more columns or rows from the DataFrame. Example, df.drop(\"Age\", axis=1)\\n will remove the \"Age\" column from the DataFrame df.\\n\\nfillna(): Used to fill missing values in the DataFrame with a specified value or method. Example, df.fillna(0)\\n will replace all missing values in the DataFrame df with 0.\\n\\nWe can use the head() function to display the first few rows of the DataFrame and check if the data is loaded correctly.\\nWe can use the info() function to check the data types and missing values in the DataFrame.\\nWe can use the describe() function to get a sense of the distribution of the numeric variables in the DataFrame.\\nWe can use the sort_values() and groupby() functions, to sort or group the data.\\n'"
      ]
     },
     "execution_count": 10,
     "metadata": {},
     "output_type": "execute_result"
    }
   ],
   "source": [
    "#5\n",
    "\"\"\"\n",
    "Pandas provides many functions to manipulate data in a DataFrame like:\n",
    "\n",
    "head() and tail(): Used to display the first or last n rows of a DataFrame, respectively.\n",
    "\n",
    "info(): Used to display a summary of the DataFrame, including the number of rows and columns, \n",
    "the data types of each column, and whether there are any missing values.\n",
    "\n",
    "describe(): Used to generate descriptive statistics of the DataFrame, such as the count, mean, standard \n",
    "deviation, minimum, and maximum values of each numeric column.\n",
    "\n",
    "sort_values(): Used to sort the DataFrame by one or more columns. Example, df.sort_values(by=\"Name\")\n",
    "\n",
    "groupby(): Used to group rows of the DataFrame by one or more columns and apply a function to each group.\n",
    " Example, df.groupby(\"Gender\").mean() will group the rows of the DataFrame df by the \"Gender\" column \n",
    " and calculate the mean of each numeric column for each group.\n",
    "\n",
    "drop(): Used to remove one or more columns or rows from the DataFrame. Example, df.drop(\"Age\", axis=1)\n",
    " will remove the \"Age\" column from the DataFrame df.\n",
    "\n",
    "fillna(): Used to fill missing values in the DataFrame with a specified value or method. Example, df.fillna(0)\n",
    " will replace all missing values in the DataFrame df with 0.\n",
    "\n",
    "We can use the head() function to display the first few rows of the DataFrame and check if the data is loaded correctly.\n",
    "We can use the info() function to check the data types and missing values in the DataFrame.\n",
    "We can use the describe() function to get a sense of the distribution of the numeric variables in the DataFrame.\n",
    "We can use the sort_values() and groupby() functions, to sort or group the data.\n",
    "\"\"\""
   ]
  },
  {
   "cell_type": "code",
   "execution_count": null,
   "id": "9b7b88d4-e20a-4efc-ba46-3a5870a4ca74",
   "metadata": {},
   "outputs": [],
   "source": [
    "# answer 7\n",
    "\"\"\"\n",
    "To create a DataFrame using multiple Series, we can pass a dictionary of Series to the pd.DataFrame() function.\n",
    "The keys of the dictionary will be used as column names, and the values will be used as the data in each column.\n",
    "\"\"\"\n",
    "\n",
    "# create a Series for each column\n",
    "names = pd.Series([\"Adarsh\", \"Asad\", \"Sarika\"])\n",
    "ages = pd.Series([25, 30, 27])\n",
    "genders = pd.Series([\"Male\", \"Male\", \"Female\"])\n",
    "\n",
    "logging.info(\"create a dictionary of Series\")\n",
    "data = {\"Name\": names, \"Age\": ages, \"Gender\": genders}\n",
    "\n",
    "logging.info(\"create a DataFrame from the dictionary\")\n",
    "df = pd.DataFrame(data)\n",
    "\n",
    "# print the DataFrame\n",
    "print(df)"
   ]
  }
 ],
 "metadata": {
  "kernelspec": {
   "display_name": "Python 3 (ipykernel)",
   "language": "python",
   "name": "python3"
  },
  "language_info": {
   "codemirror_mode": {
    "name": "ipython",
    "version": 3
   },
   "file_extension": ".py",
   "mimetype": "text/x-python",
   "name": "python",
   "nbconvert_exporter": "python",
   "pygments_lexer": "ipython3",
   "version": "3.10.8"
  }
 },
 "nbformat": 4,
 "nbformat_minor": 5
}
