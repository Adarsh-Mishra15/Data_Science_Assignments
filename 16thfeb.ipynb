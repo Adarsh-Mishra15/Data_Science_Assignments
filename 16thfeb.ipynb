{
 "cells": [
  {
   "cell_type": "code",
   "execution_count": null,
   "id": "2078de1a-3e76-45e3-b711-247c8f256adf",
   "metadata": {},
   "outputs": [],
   "source": [
    "#1\n",
    "\n",
    "import logging\n",
    "llogging.basicConfig(filename=\"16FebInfo.log\", level=logging.INFO, format=\"%(asctime)s %(name)s %(message)s\")\n",
    "\n",
    "\"\"\"Database:\n",
    " A database is a software system that allows the storage, organization, and retrieval of data. \n",
    "    It is a collection of data that is stored and managed in a structured manner, \n",
    "    which can be easily accessed, managed, and updated.\n",
    "\"\"\"\n",
    "\"\"\"\n",
    "    SQL (Structured Query Language) databases are based on the relational model, where data is stored\n",
    "    in tables with predefined columns and relationships between them.\n",
    "    SQL databases use SQL as the standard language for interacting with the data, for powerful querying, sorting, \n",
    "    filtering, and manipulating of data. \n",
    "    \n",
    "Example: SQL databases are ideal for applications that require structured data, \n",
    "    such as financial transactions, online banking, e-commerce, and inventory management.\n",
    "    \n",
    "    NoSQL (Not Only SQL) databases, are used to handle unstructured, semi-structured,\n",
    "    and complex data that does not fit neatly into tables. NoSQL databases use various data models, \n",
    "    such as document, key-value, graph, and column-family, to store and organize data.\n",
    "    \n",
    "Example: NoSQL databases are suitable for applications that require high availability, scalability, and agility,\n",
    "    such as social media, gaming, IoT, and real-time analytics.\n",
    "\"\"\""
   ]
  },
  {
   "cell_type": "code",
   "execution_count": 1,
   "id": "019c3406-1729-4091-b6c4-48e70a073e49",
   "metadata": {},
   "outputs": [
    {
     "data": {
      "text/plain": [
       "'\\nCREATE: CREATE statement is used to create a new database object such as a table, view, index, or constraint.\\nSyntax: CREATE object_type object_name (column_name1 data_type, column_name2 data_type, ...);\\n\\nExample: CREATE TABLE employees (id INT PRIMARY KEY, name VARCHAR(50), salary INT);\\n\\nDROP: DROP statement is used to remove a database object such as a table, view, index, or constraint.\\nSyntax: DROP object_type object_name;\\n\\nExample: DROP TABLE employees;\\n\\nALTER: ALTER statement is used to modify the structure of an existing database object. \\nExample: ALTER TABLE employees ADD COLUMN age INT;\\n\\nTRUNCATE: TRUNCATE statement is used to remove all the data from a table, but it leaves the table structure intact.\\nSyntax: TRUNCATE TABLE table_name;\\n\\nExample: TRUNCATE TABLE employees;\\n'"
      ]
     },
     "execution_count": 1,
     "metadata": {},
     "output_type": "execute_result"
    }
   ],
   "source": [
    "#2\n",
    "\n",
    "\"\"\"\n",
    "DDL stands for Data Definition Language, which is a set of SQL statements used to define and manipulate \n",
    "the structure of database objects such as tables, views, indexes, and constraints. \n",
    "DDL commands: CREATE, DROP, ALTER, and TRUNCATE\n",
    "\"\"\"\n",
    "\"\"\"\n",
    "CREATE: CREATE statement is used to create a new database object such as a table, view, index, or constraint.\n",
    "Syntax: CREATE object_type object_name (column_name1 data_type, column_name2 data_type, ...);\n",
    "\n",
    "Example: CREATE TABLE employees (id INT PRIMARY KEY, name VARCHAR(50), salary INT);\n",
    "\n",
    "DROP: DROP statement is used to remove a database object such as a table, view, index, or constraint.\n",
    "Syntax: DROP object_type object_name;\n",
    "\n",
    "Example: DROP TABLE employees;\n",
    "\n",
    "ALTER: ALTER statement is used to modify the structure of an existing database object. \n",
    "Example: ALTER TABLE employees ADD COLUMN age INT;\n",
    "\n",
    "TRUNCATE: TRUNCATE statement is used to remove all the data from a table, but it leaves the table structure intact.\n",
    "Syntax: TRUNCATE TABLE table_name;\n",
    "\n",
    "Example: TRUNCATE TABLE employees;\n",
    "\"\"\""
   ]
  },
  {
   "cell_type": "code",
   "execution_count": 2,
   "id": "bad2a04a-a422-4e57-b847-8cf60ecb0194",
   "metadata": {},
   "outputs": [
    {
     "data": {
      "text/plain": [
       "\"\\nINSERT: INSERT statement is used to add new data to a table.\\nSyntax: INSERT INTO table_name (column1, column2, ...) VALUES (value1, value2, ...);\\n\\nExample: INSERT INTO employees (id, name, salary) VALUES (101, 'John Doe', 50000);\\n\\nUPDATE: UPDATE statement is used to modify existing data in a table.\\nSyntax :UPDATE table_name SET column1 = value1, column2 = value2, ... WHERE condition;\\n\\nExample: UPDATE employees SET salary = 55000 WHERE id = 101;\\n\\nDELETE: DELETE statement is used to remove data from a table.\\nSyntax: DELETE FROM table_name WHERE condition;\\n\\nExample: DELETE FROM employees WHERE id = 101;\\n\""
      ]
     },
     "execution_count": 2,
     "metadata": {},
     "output_type": "execute_result"
    }
   ],
   "source": [
    "#3\n",
    "\n",
    "\"\"\"\n",
    "DML stands for Data Manipulation Language, which is a set of SQL statements used to manipulate the data\n",
    "in a database. \n",
    "DML commands: INSERT, UPDATE, and DELETE.\n",
    "\"\"\"\n",
    "\"\"\"\n",
    "INSERT: INSERT statement is used to add new data to a table.\n",
    "Syntax: INSERT INTO table_name (column1, column2, ...) VALUES (value1, value2, ...);\n",
    "\n",
    "Example: INSERT INTO employees (id, name, salary) VALUES (101, 'John Doe', 50000);\n",
    "\n",
    "UPDATE: UPDATE statement is used to modify existing data in a table.\n",
    "Syntax :UPDATE table_name SET column1 = value1, column2 = value2, ... WHERE condition;\n",
    "\n",
    "Example: UPDATE employees SET salary = 55000 WHERE id = 101;\n",
    "\n",
    "DELETE: DELETE statement is used to remove data from a table.\n",
    "Syntax: DELETE FROM table_name WHERE condition;\n",
    "\n",
    "Example: DELETE FROM employees WHERE id = 101;\n",
    "\"\"\""
   ]
  },
  {
   "cell_type": "code",
   "execution_count": 3,
   "id": "154b4ffd-4d80-4502-82a5-0399a7d94944",
   "metadata": {},
   "outputs": [
    {
     "data": {
      "text/plain": [
       "'\\nSELECT: SELECT statement is used to retrieve data from one or more tables in a database. \\nSyntax: SELECT column1, column2, ... FROM table_name WHERE condition ORDER BY column_name;\\n\\nExample: SELECT name, salary FROM employees WHERE salary >= 50000 ORDER BY salary DESC;\\n'"
      ]
     },
     "execution_count": 3,
     "metadata": {},
     "output_type": "execute_result"
    }
   ],
   "source": [
    "#4\n",
    "\n",
    "\"\"\"\n",
    "DQL stands for Data Query Language, which is a set of SQL statements used to retrieve data from a database.\n",
    "The primary command in DQL is SELECT.\n",
    "\"\"\"\n",
    "\"\"\"\n",
    "SELECT: SELECT statement is used to retrieve data from one or more tables in a database. \n",
    "Syntax: SELECT column1, column2, ... FROM table_name WHERE condition ORDER BY column_name;\n",
    "\n",
    "Example: SELECT name, salary FROM employees WHERE salary >= 50000 ORDER BY salary DESC;\n",
    "\"\"\""
   ]
  },
  {
   "cell_type": "code",
   "execution_count": 12,
   "id": "1f29a517-d929-44e0-b3f6-f4d984a011f6",
   "metadata": {},
   "outputs": [
    {
     "data": {
      "text/plain": [
       "'\\nForeign Key: \\n          A foreign key is a column or a combination of columns in one table that refers to the\\nprimary key of another table. A foreign key establishes a link between two tables by creating a relationship \\nbetween them. It helps to maintain referential integrity between the related tables.\\n'"
      ]
     },
     "execution_count": 12,
     "metadata": {},
     "output_type": "execute_result"
    }
   ],
   "source": [
    "#5\n",
    "\n",
    "# Primary Key and Foreign Key are used to establish relationships between tables.\n",
    "\"\"\"\n",
    "Primary Key:\n",
    "          A primary key is a unique identifier for each record in a table. It is a column or a \n",
    "combination of columns that uniquely identifies each row in a table. The primary key is always unique, \n",
    "not null and cannot be duplicated.\n",
    "\"\"\"\n",
    "# CREATE TABLE students (student_id INT PRIMARY KEY, name VARCHAR(50), age INT, class VARCHAR(50));\n",
    "\n",
    "\"\"\"\n",
    "Foreign Key: \n",
    "          A foreign key is a column or a combination of columns in one table that refers to the\n",
    "primary key of another table. A foreign key establishes a link between two tables by creating a relationship \n",
    "between them. It helps to maintain referential integrity between the related tables.\n",
    "\"\"\"\n",
    "# CREATE TABLE students (student_id INT PRIMARY KEY, name VARCHAR(50), class_id INT, FOREIGN KEY (class_id) REFERENCES classes(class_id));\n"
   ]
  },
  {
   "cell_type": "code",
   "execution_count": null,
   "id": "eb6366a6-7921-4c52-a19c-fb8e9f216ff4",
   "metadata": {},
   "outputs": [],
   "source": [
    "#6\n",
    "\n",
    "# to connect MySQL to Python, you can use the mysql-connector-python package\n",
    "import logging\n",
    "import mysql.connector\n",
    "\n",
    "# connect to the database\n",
    "mydb = mysql.connector.connect(\n",
    "  host=\"localhost\",\n",
    "  user=\"abc\",\n",
    "  password=\"password\",\n",
    ")\n",
    "\n",
    "logging.info(\"create a cursor object\")\n",
    "mycursor = mydb.cursor()\n",
    "\n",
    "# execute a query  select all from table->test_table of database->db1\n",
    "mycursor.execute(\"SELECT * FROM db1.test_table\")\n",
    "# mydb.commit() if modify/commit in db\n",
    "\n",
    "logging.info(\"fetching the results\")\n",
    "res = mycursor.fetchall()\n",
    "\n",
    "logging.info(\"printing the results\")\n",
    "for i in res:\n",
    "  print(i)\n",
    "\n",
    "mydb.close()\n",
    "\n",
    "\n",
    "\n",
    "\"\"\"\n",
    "cursor(): The cursor() method is used to create a cursor object. The cursor is an object that allows us \n",
    "to execute SQL statements and fetch the results. The cursor() method is called on the database connection \n",
    "object, and it returns a new cursor object.\n",
    "\"\"\"\n",
    "\"\"\"\n",
    "execute(): The execute() method is used to execute an SQL statement. The SQL statement is passed as a \n",
    "string argument to the execute() method. The execute() method can be used to execute any SQL statement, \n",
    "such as SELECT, INSERT, UPDATE, DELETE, etc. Once the SQL statement is executed, the cursor object is \n",
    "ready to fetch the results using the fetchone(), fetchmany(), or fetchall() methods.\n",
    "\"\"\""
   ]
  },
  {
   "cell_type": "code",
   "execution_count": null,
   "id": "99c005db-987b-4966-a19d-3e67084b04e4",
   "metadata": {},
   "outputs": [],
   "source": [
    "#7\n",
    "\n",
    "# The order of execution of SQL clauses in an SQL query is as follows:\n",
    "\"\"\"\n",
    "FROM:\n",
    "    The FROM clause is executed first, which specifies the table or tables from which the data is retrieved.\n",
    "\n",
    "WHERE: \n",
    "    The WHERE clause is executed second, which filters the data based on a specified condition.\n",
    "\n",
    "GROUP BY: \n",
    "    The GROUP BY clause is executed third, which groups the data based on a specified column or set of columns.\n",
    "\n",
    "HAVING: \n",
    "    The HAVING clause is executed fourth, which filters the grouped data based on a specified condition.\n",
    "\n",
    "SELECT: \n",
    "    The SELECT clause is executed fifth, which selects the columns to be displayed in the result set.\n",
    "\n",
    "DISTINCT: \n",
    "    The DISTINCT clause is executed sixth, which eliminates duplicate values from the result set.\n",
    "\n",
    "ORDER BY:\n",
    "    The ORDER BY clause is executed seventh, which sorts the result set based on a specified column or set of columns.\n",
    "\n",
    "LIMIT/OFFSET:\n",
    "    The LIMIT and OFFSET clauses are executed last, which limits the number of rows returned or skips a specified number of rows in the result set.\n",
    "\"\"\""
   ]
  },
  {
   "cell_type": "code",
   "execution_count": null,
   "id": "433ba32b-1fef-420e-9e80-0311e266de35",
   "metadata": {},
   "outputs": [],
   "source": []
  }
 ],
 "metadata": {
  "kernelspec": {
   "display_name": "Python 3 (ipykernel)",
   "language": "python",
   "name": "python3"
  },
  "language_info": {
   "codemirror_mode": {
    "name": "ipython",
    "version": 3
   },
   "file_extension": ".py",
   "mimetype": "text/x-python",
   "name": "python",
   "nbconvert_exporter": "python",
   "pygments_lexer": "ipython3",
   "version": "3.10.8"
  }
 },
 "nbformat": 4,
 "nbformat_minor": 5
}
