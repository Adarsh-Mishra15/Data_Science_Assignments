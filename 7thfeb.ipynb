{
 "cells": [
  {
   "cell_type": "code",
   "execution_count": 3,
   "id": "c3d3bb98-83b5-4974-b59c-12dfd4b4aac4",
   "metadata": {},
   "outputs": [
    {
     "name": "stdin",
     "output_type": "stream",
     "text": [
      "Enter a password :  ABcd$@#12a\n"
     ]
    },
    {
     "name": "stdout",
     "output_type": "stream",
     "text": [
      "Valid Password\n"
     ]
    }
   ],
   "source": [
    "def check_password(password):\n",
    "    upper,lower,nums,special_char=0,0,0,0\n",
    "    length=len(password)\n",
    "    for i in password:\n",
    "        sp=ord(i)\n",
    "        if i.isupper():\n",
    "            upper+=1\n",
    "        if i.islower():\n",
    "            lower+=1\n",
    "#       check if ascii values are for the integers from 0 to 9\n",
    "        if sp-48>=0 and sp-48<=9:\n",
    "            nums+=1\n",
    "#       check the ascii value for special characters\n",
    "        if (sp>=123) or (sp<=64) or (sp>=91 and sp<=96):\n",
    "            special_char+=1\n",
    "    if upper>=2 and lower>=2 and nums>=1 and special_char>=3 and length==10:\n",
    "        return True\n",
    "    else:\n",
    "        return False\n",
    "    \n",
    "input_pass=input(\"Enter a password : \")\n",
    "if(check_password(input_pass)):\n",
    "    print(\"Valid Password\")\n",
    "else :\n",
    "    print(\"Invalid password\")  \n",
    "                "
   ]
  },
  {
   "cell_type": "code",
   "execution_count": 5,
   "id": "cc245ef2-b386-4efc-bc91-18e3fc6f065b",
   "metadata": {},
   "outputs": [
    {
     "name": "stdin",
     "output_type": "stream",
     "text": [
      "Enter the starting character:  b\n",
      "Enter the string:  adarsh\n"
     ]
    },
    {
     "name": "stdout",
     "output_type": "stream",
     "text": [
      "False\n"
     ]
    }
   ],
   "source": [
    "#2(a)\n",
    "\n",
    "# check if string starts with particular using lambda function\n",
    "is_start = lambda x,y : x.startswith(y)\n",
    "\n",
    "start_char=input(\"Enter the starting character: \")\n",
    "input_str=input(\"Enter the string: \")\n",
    "print(is_start(input_str,start_char))"
   ]
  },
  {
   "cell_type": "code",
   "execution_count": 2,
   "id": "b247fa74-9b58-446b-984c-4469eb601fc1",
   "metadata": {},
   "outputs": [
    {
     "name": "stdin",
     "output_type": "stream",
     "text": [
      "Enter the string 123\n"
     ]
    },
    {
     "name": "stdout",
     "output_type": "stream",
     "text": [
      "True\n"
     ]
    }
   ],
   "source": [
    "#2(b)\n",
    "\n",
    "is_numeric = lambda x: x.isnumeric()\n",
    "\n",
    "str = input(\"Enter the string\")\n",
    "print(is_numeric(str))"
   ]
  },
  {
   "cell_type": "code",
   "execution_count": 6,
   "id": "d72371ff-aab7-40bc-a56f-3a8142be47c0",
   "metadata": {},
   "outputs": [
    {
     "name": "stdout",
     "output_type": "stream",
     "text": [
      "[('orange', 80), ('mango', 99), ('grapes', 1000)]\n"
     ]
    }
   ],
   "source": [
    "#2(c)\n",
    "\n",
    "list1 = [(\"mango\",99),(\"orange\",80), (\"grapes\", 1000)]\n",
    "\n",
    "sorted_list = sorted(list1, key=lambda x: x[1])\n",
    "print(sorted_list)"
   ]
  },
  {
   "cell_type": "code",
   "execution_count": 11,
   "id": "084b3cba-7e0a-4e40-aaff-28655c7ab6b9",
   "metadata": {},
   "outputs": [
    {
     "name": "stdout",
     "output_type": "stream",
     "text": [
      "[1, 4, 9, 16, 25, 36, 49, 64, 81, 100]\n"
     ]
    }
   ],
   "source": [
    "#2(d)\n",
    "\n",
    "square = [i**2 for i in range(1,11)]\n",
    "print(square)"
   ]
  },
  {
   "cell_type": "code",
   "execution_count": 16,
   "id": "6412cca7-4329-45a2-b29d-59b703ada42f",
   "metadata": {},
   "outputs": [
    {
     "name": "stdout",
     "output_type": "stream",
     "text": [
      "[1.0, 1.26, 1.44, 1.59, 1.71, 1.82, 1.91, 2.0, 2.08, 2.15]\n"
     ]
    }
   ],
   "source": [
    "#2(e)\n",
    "\n",
    "cube_roots = [round(i**(1/3), 2) for i in range(1, 11)]\n",
    "print(cube_roots)"
   ]
  },
  {
   "cell_type": "code",
   "execution_count": 15,
   "id": "ce367564-4b02-4876-a61f-e5702e80eeab",
   "metadata": {},
   "outputs": [
    {
     "name": "stdin",
     "output_type": "stream",
     "text": [
      "Enter the number 3\n"
     ]
    },
    {
     "data": {
      "text/plain": [
       "False"
      ]
     },
     "execution_count": 15,
     "metadata": {},
     "output_type": "execute_result"
    }
   ],
   "source": [
    "#2(f)\n",
    "\n",
    "is_even = lambda x:x%2==0\n",
    "\n",
    "number = int(input(\"Enter the number\"))\n",
    "is_even(number)"
   ]
  },
  {
   "cell_type": "code",
   "execution_count": 19,
   "id": "952a9efb-4a66-4b3d-814e-3cc3e72dec2c",
   "metadata": {},
   "outputs": [
    {
     "data": {
      "text/plain": [
       "(1, 3, 5, 7, 9)"
      ]
     },
     "execution_count": 19,
     "metadata": {},
     "output_type": "execute_result"
    }
   ],
   "source": [
    "#2(g)\n",
    "\n",
    "list1 = [1,2,3,4,5,6,7,8,9,10]\n",
    "\n",
    "tuple(filter(lambda x: x%2!=0 , list1))"
   ]
  },
  {
   "cell_type": "code",
   "execution_count": 5,
   "id": "4fa6bf48-add2-4973-b6ec-559a788d274d",
   "metadata": {},
   "outputs": [
    {
     "name": "stdout",
     "output_type": "stream",
     "text": [
      "Positive Numbers: [1, 2, 3, 4, 5, 6]\n",
      "Negative Numbers: [-1, -2, -3, -4, -5]\n"
     ]
    }
   ],
   "source": [
    "#2(h)\n",
    "\n",
    "list_1 = [1,2,3,4,5,6,-1,-2,-3,-4,-5,0]\n",
    "\n",
    "pos = list(filter(lambda x: x > 0, list_1))\n",
    "neg = list(filter(lambda x: x < 0, list_1))\n",
    "print(\"Positive Numbers:\", pos)\n",
    "print(\"Negative Numbers:\", neg)\n"
   ]
  },
  {
   "cell_type": "code",
   "execution_count": null,
   "id": "877016cf-eab2-4f43-ab9c-931a31da0149",
   "metadata": {},
   "outputs": [],
   "source": []
  }
 ],
 "metadata": {
  "kernelspec": {
   "display_name": "Python 3 (ipykernel)",
   "language": "python",
   "name": "python3"
  },
  "language_info": {
   "codemirror_mode": {
    "name": "ipython",
    "version": 3
   },
   "file_extension": ".py",
   "mimetype": "text/x-python",
   "name": "python",
   "nbconvert_exporter": "python",
   "pygments_lexer": "ipython3",
   "version": "3.10.8"
  }
 },
 "nbformat": 4,
 "nbformat_minor": 5
}
