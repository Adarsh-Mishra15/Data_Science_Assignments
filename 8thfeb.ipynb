{
 "cells": [
  {
   "cell_type": "code",
   "execution_count": 1,
   "id": "f8917b44-47c9-48e0-8076-eac8c4190539",
   "metadata": {},
   "outputs": [
    {
     "name": "stdout",
     "output_type": "stream",
     "text": [
      "200\n"
     ]
    }
   ],
   "source": [
    "#1\n",
    "\n",
    "\n",
    "\"\"\"\n",
    "Abstraction in Object Oriented Programming (OOP) is a mechanism of hiding the implementation details \n",
    "from the user and showing only the essential features of an object. \n",
    "It is a process of identifying the common characteristics of objects and creating a new definition\n",
    "(abstract data type) based on these characteristics.\n",
    "\"\"\"\n",
    "\"\"\"\n",
    "For example,  \n",
    "We use a phone to make calls, send messages, take pictures, etc.\n",
    "But we don't need to know how these tasks are performed internally.\n",
    "Therefore essential features of the phone are visible to the user and the internal details are hidden.\n",
    "\"\"\"\n",
    "class Shape:\n",
    "    def __init__(self, width, height):\n",
    "        self.__width = width\n",
    "        self.__height = height\n",
    "        \n",
    "    def area(self):\n",
    "        # implementation details are hidden\n",
    "        # user doesn't need to know how the area is calculated\n",
    "        return self.__width * self.__height\n",
    "\n",
    "s = Shape(10, 20)\n",
    "print(s.area()) "
   ]
  },
  {
   "cell_type": "code",
   "execution_count": 2,
   "id": "35717aed-837e-43c2-9914-00683c4d27ea",
   "metadata": {},
   "outputs": [
    {
     "name": "stdout",
     "output_type": "stream",
     "text": [
      "Insufficient balance\n",
      "1500\n"
     ]
    }
   ],
   "source": [
    "#2\n",
    "\n",
    "\"\"\"\n",
    "Abstraction :\n",
    "            It is the process of hiding the implementation details and \n",
    "showing only the essential features of an object.\n",
    "It is about creating a simplified representation of a complex system, \n",
    "allowing the user to interact with it at a higher level of abstraction.\n",
    "\"\"\"\n",
    "\n",
    "class Shape:\n",
    "    def __init__(self, sides):\n",
    "        self.sides = sides\n",
    "\n",
    "    def number_of_sides(self):\n",
    "        pass\n",
    "\n",
    "class Triangle(Shape):\n",
    "    def __init__(self, sides):\n",
    "        Shape.__init__(self, sides)\n",
    "\n",
    "    def number_of_sides(self):\n",
    "        return 3\n",
    "# similarly we can create classes for other shapes like circle, square, rectangle\n",
    "\"\"\"\n",
    "Encapsulation:\n",
    "             It refers to the bundling of data and functions into a single unit (object)\n",
    "that can be treated as a single entity. Encapsulation helps to hide the internal \n",
    "implementation details of an object and ensure that its data is protected from outside access or modification.\n",
    "\"\"\"\n",
    "\n",
    "class BankAccount:\n",
    "    def __init__(self, balance):\n",
    "        self.__balance = balance\n",
    "\n",
    "    def deposit(self, amount):\n",
    "        self.__balance += amount\n",
    "        \n",
    "    def withdraw(self, amount):\n",
    "        if amount > self.__balance:\n",
    "            print(\"Insufficient balance\")\n",
    "            return\n",
    "        self.__balance -= amount\n",
    "        \n",
    "    def get_balance(self):\n",
    "        return self.__balance\n",
    "\n",
    "acct = BankAccount(1000)\n",
    "acct.deposit(500)\n",
    "acct.withdraw(10000)\n",
    "print(acct.get_balance()) "
   ]
  },
  {
   "cell_type": "code",
   "execution_count": 3,
   "id": "303588ab-73b3-4e54-b613-cdeb726d0ad9",
   "metadata": {},
   "outputs": [
    {
     "name": "stdout",
     "output_type": "stream",
     "text": [
      "25\n"
     ]
    },
    {
     "data": {
      "text/plain": [
       "'\\nFor example, we can define an abstract base class for a group of related shapes, \\nsuch as circles, triangles, and rectangles. \\nThe ABC would specify that all shapes must have methods to calculate their area and perimeter, \\nbut would not specify how these calculations should be performed. \\nSubclasses of the ABC would implement these methods for each specific shape.\\n'"
      ]
     },
     "execution_count": 3,
     "metadata": {},
     "output_type": "execute_result"
    }
   ],
   "source": [
    "#3\n",
    "\n",
    "\"\"\"\n",
    "The \"abc\" module (abstract base classes) in Python is used to define abstract base classes (ABCs).\n",
    "An abstract base class is a class that cannot be instantiated, but can be subclassed. \n",
    "ABCs provide a way to define a common interface for a set of related classes\n",
    "without specifying a concrete implementation.\n",
    "\"\"\"\n",
    "# abc module example\n",
    "import abc\n",
    "\n",
    "class Shape(metaclass=abc.ABCMeta):\n",
    "    @abc.abstractmethod\n",
    "    def area(self):\n",
    "        pass\n",
    "\n",
    "class Square(Shape):\n",
    "    def __init__(self, side):\n",
    "        self.side = side\n",
    "\n",
    "    def area(self):\n",
    "        return self.side * self.side\n",
    "\n",
    "s = Square(5)\n",
    "print(s.area())\n",
    "\n",
    "\"\"\"\n",
    "The purpose of using ABCs is to define a common interface for a set of related classes \n",
    "and enforce that they adhere to the same interface. \n",
    "This helps to ensure that objects from these classes can be used interchangeably \n",
    "in code that depends on the interface. This way, the code remains flexible and maintainable, \n",
    "as it is decoupled from the specific implementation of the objects.\n",
    "\"\"\"\n",
    "\n",
    "\"\"\"\n",
    "For example, we can define an abstract base class for a group of related shapes, \n",
    "such as circles, triangles, and rectangles. \n",
    "The ABC would specify that all shapes must have methods to calculate their area and perimeter, \n",
    "but would not specify how these calculations should be performed. \n",
    "Subclasses of the ABC would implement these methods for each specific shape.\n",
    "\"\"\""
   ]
  },
  {
   "cell_type": "code",
   "execution_count": 4,
   "id": "2da195b7-feaa-48db-a24f-1074920902cc",
   "metadata": {},
   "outputs": [
    {
     "data": {
      "text/plain": [
       "'\\n    Information hiding is the practice of keeping the implementation details of a class hidden from the user. \\n    By using information hiding, the user interacts with the class only through its public methods,\\n    which provide a level of abstraction.\\n'"
      ]
     },
     "execution_count": 4,
     "metadata": {},
     "output_type": "execute_result"
    }
   ],
   "source": [
    "#4\n",
    "\n",
    "\"\"\"\n",
    "Data abstraction is achieved through the use of abstract data types (ADT) in Object-Oriented Programming (OOP).\n",
    "An abstract data type is a type that is defined in terms of its behavior (operations) rather than its implementation details.\n",
    "\"\"\"\n",
    "\n",
    "# There are several ways to achieve data abstraction in OOP:\n",
    "\n",
    "# Encapsulation:\n",
    "\"\"\"\n",
    "    Encapsulation is the process of wrapping data and functions into a single unit called an object.\n",
    "    By using encapsulation, the implementation details of the object can be hidden from the user,\n",
    "    providing a level of abstraction.\n",
    "\"\"\"\n",
    "\n",
    "# Interfaces:\n",
    "\"\"\"\n",
    "    Interfaces define a set of methods that must be implemented by a class. \n",
    "    An interface provides a contract for the class to follow, which can be used to achieve abstraction.\n",
    "\"\"\"\n",
    "\n",
    "# Abstract classes: \n",
    "\"\"\"\n",
    "    An abstract class is a class that cannot be instantiated but can be subclassed.\n",
    "    An abstract class can define a common interface for a set of related classes, \n",
    "    and can enforce that these classes implement the methods defined in the abstract class.\n",
    "\"\"\"\n",
    "\n",
    "# Information hiding:\n",
    "\"\"\"\n",
    "    Information hiding is the practice of keeping the implementation details of a class hidden from the user. \n",
    "    By using information hiding, the user interacts with the class only through its public methods,\n",
    "    which provide a level of abstraction.\n",
    "\"\"\""
   ]
  },
  {
   "cell_type": "code",
   "execution_count": null,
   "id": "945a56cc-7cd5-40b4-b75b-727059ffc7a3",
   "metadata": {},
   "outputs": [],
   "source": [
    "#5\n",
    "\n"
   ]
  }
 ],
 "metadata": {
  "kernelspec": {
   "display_name": "Python 3 (ipykernel)",
   "language": "python",
   "name": "python3"
  },
  "language_info": {
   "codemirror_mode": {
    "name": "ipython",
    "version": 3
   },
   "file_extension": ".py",
   "mimetype": "text/x-python",
   "name": "python",
   "nbconvert_exporter": "python",
   "pygments_lexer": "ipython3",
   "version": "3.10.8"
  }
 },
 "nbformat": 4,
 "nbformat_minor": 5
}
