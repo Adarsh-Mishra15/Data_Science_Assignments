{
 "cells": [
  {
   "cell_type": "code",
   "execution_count": 1,
   "id": "e1200c2e-e9a1-4252-89af-b9ce7edef847",
   "metadata": {},
   "outputs": [
    {
     "data": {
      "text/plain": [
       "\"\\nSyntax errors -> are errors that occur when the code we write doesn't \\nconform to the syntax rules of the programming language. They occur when the Python interpreter \\nencounters a line of code that it can't parse because it's not valid according to the syntax rules.\\n\""
      ]
     },
     "execution_count": 1,
     "metadata": {},
     "output_type": "execute_result"
    }
   ],
   "source": [
    "#1\n",
    "\n",
    "\"\"\"\n",
    "Exceptions -> are runtime errors that occur during the execution of a program. \n",
    "They are raised when a program encounters an error that it can't handle without our intervention. \n",
    "Exceptions interrupt the normal flow of execution of a program and transfer control\n",
    "to an exception handling block, where we can take appropriate action to resolve the error.\n",
    "\"\"\"\n",
    "\"\"\"\n",
    "Syntax errors -> are errors that occur when the code we write doesn't \n",
    "conform to the syntax rules of the programming language. They occur when the Python interpreter \n",
    "encounters a line of code that it can't parse because it's not valid according to the syntax rules.\n",
    "\"\"\""
   ]
  },
  {
   "cell_type": "code",
   "execution_count": 2,
   "id": "5cb54572-9fc8-48ba-a857-214fd4a8b6e0",
   "metadata": {},
   "outputs": [
    {
     "name": "stdout",
     "output_type": "stream",
     "text": [
      "Cannot divide by zero\n",
      "None\n"
     ]
    }
   ],
   "source": [
    "#2\n",
    "\n",
    "\"\"\"\n",
    "When an exception is not handled, the program will stop executing and produce an \n",
    "unhandled exception error message. This error message will typically include the type\n",
    "of exception that was raised, as well as a traceback that shows the line of code where \n",
    "the exception occurred.\n",
    "\"\"\"\n",
    "\n",
    "# the below code in multi-line comment gives a zero division error\n",
    "\"\"\"\n",
    "def divide(a, b):\n",
    "    return a / b\n",
    "\n",
    "print(divide(10, 0))\n",
    "\"\"\"\n",
    "# example with exception handling:\n",
    "import logging\n",
    "logging.basicConfig(filename=\"assignment12feb.log\", level=logging.INFO, format=\"%(asctime)s %(name)s %(message)s\")\n",
    "def divide(a, b):\n",
    "    try:\n",
    "        logging.info(\"exectuted try block\")\n",
    "        return a / b\n",
    "    except ZeroDivisionError:\n",
    "        logging.info(\"raised an exception\")\n",
    "        print(\"Cannot divide by zero\")\n",
    "\n",
    "print(divide(10, 0))"
   ]
  },
  {
   "cell_type": "code",
   "execution_count": 3,
   "id": "046586de-2514-4642-a2f9-01994f39c1ef",
   "metadata": {},
   "outputs": [
    {
     "name": "stdout",
     "output_type": "stream",
     "text": [
      "Error: Cannot divide by zero\n",
      "This code will be executed regardless of whether an exception was raised or not.\n"
     ]
    }
   ],
   "source": [
    "#3\n",
    "\n",
    "\"\"\"\n",
    "We can catch and handle exceptions using the try and except statements.\n",
    "The 'try' statement is used to define a block of code that might raise an exception, \n",
    "while the 'except' statement is used to catch and handle any exceptions that are raised within the try block.\n",
    "\"\"\"\n",
    "\n",
    "# the below code in multi-line comment gives a zero division error\n",
    "\"\"\"\n",
    "try:\n",
    "    result = 10 / 0\n",
    "except ZeroDivisionError:\n",
    "    print(\"Error: Cannot divide by zero\")\n",
    "\"\"\"\n",
    "\n",
    "# below code illustrates the try except sattements\n",
    "try:\n",
    "    result = 10 / 0\n",
    "except ZeroDivisionError:\n",
    "    logging.info(\"zerodivision error raised\")\n",
    "    print(\"Error: Cannot divide by zero\")\n",
    "except TypeError:\n",
    "    logging.info(\"type error raised\")\n",
    "    print(\"Error: Invalid argument type\")\n",
    "finally:\n",
    "    print(\"This code will be executed regardless of whether an exception was raised or not.\")"
   ]
  },
  {
   "cell_type": "code",
   "execution_count": 4,
   "id": "25d50da4-2a10-4ec8-9475-2b6bd6ea7bfc",
   "metadata": {},
   "outputs": [
    {
     "name": "stdout",
     "output_type": "stream",
     "text": [
      "The result is: 5.0\n",
      "Error: Cannot divide by zero\n",
      "This code will always be executed.\n",
      "Cannot divide by zero\n"
     ]
    }
   ],
   "source": [
    "#4\n",
    "\n",
    "\"\"\"\n",
    "try and else: \n",
    "              The else clause in a try/except block is executed when no exceptions are raised in the try block.\n",
    "The else clause provides a way to specify code that should be executed if the try block \n",
    "without raising an exception.\n",
    "\"\"\"\n",
    "\n",
    "try:\n",
    "    result = 10 / 2\n",
    "except ZeroDivisionError:\n",
    "    print(\"Error: Cannot divide by zero\")\n",
    "else:\n",
    "#     this is executed when our try block is executed without error\n",
    "    print(\"The result is:\", result)\n",
    "\n",
    "\"\"\"\n",
    "finally:\n",
    "        The finally clause in a try/except block is executed regardless of whether an exception is \n",
    "raised or not. The finally clause provides a way to specify code that should always be executed,\n",
    "regardless of whether an exception is raised or not.\n",
    "\"\"\"\n",
    "\n",
    "try:\n",
    "    result = 10 / 0\n",
    "except ZeroDivisionError:\n",
    "    print(\"Error: Cannot divide by zero\")\n",
    "finally:\n",
    "    print(\"This code will always be executed.\")\n",
    "    \n",
    "\"\"\"\n",
    "raise: The raise statement is used to manually raise an exception in our code.\n",
    "we\"\"\"\n",
    "\n",
    "def divide(a, b):\n",
    "    if b == 0:\n",
    "#         manually raising the zeroDivisionError message\n",
    "        raise ZeroDivisionError(\"Cannot divide by zero\")\n",
    "    return a / b\n",
    "\n",
    "try:\n",
    "    result = divide(10, 0)\n",
    "except ZeroDivisionError as e:\n",
    "    print(e)"
   ]
  },
  {
   "cell_type": "code",
   "execution_count": 8,
   "id": "ece425c6-aaf1-4b6f-a305-f5fa1042dee4",
   "metadata": {},
   "outputs": [
    {
     "name": "stdin",
     "output_type": "stream",
     "text": [
      "enter numerator:  10\n",
      "enter denominator:  2\n"
     ]
    },
    {
     "name": "stdout",
     "output_type": "stream",
     "text": [
      "5.0\n"
     ]
    }
   ],
   "source": [
    "#5 \n",
    "\n",
    "\"\"\"\n",
    "A custom exception is a user-defined exception class that inherits from the\n",
    "we with their own names and associated behavior.\n",
    "\"\"\"\n",
    "\"\"\"\n",
    "The need for custom exceptions arises when the built-in exceptions do not provide enough\n",
    "detail or specificity for the error conditions that may arise in our program. For example, \n",
    "the built-in \"ValueError\" exception might be raised when a function receives an argument of the wrong type, \n",
    "but it does not provide any information about what was expected or what went wrong. \n",
    "By creating a custom exception class, we can provide a more descriptive error message, \n",
    "and also specify which type of errors should be handled in a specific way.\n",
    "\"\"\"\n",
    "\n",
    "class CustomException(Exception):\n",
    "     \n",
    "    def __init__(self, message):\n",
    "        self.message = message\n",
    "\n",
    "def divide(a, b):\n",
    "    if b == 0:\n",
    "        raise CustomException(\"Cannot divide by zero.\")\n",
    "    return a / b\n",
    "\n",
    "try:\n",
    "#     input the numbers dividend and divisor\n",
    "    a=int(input(\"enter numerator: \"))\n",
    "    b=int(input(\"enter denominator: \"))\n",
    "    logging.info(\"dividing a by b\")\n",
    "    result = divide(a,b)\n",
    "    print(result)\n",
    "except CustomException as e:\n",
    "    logging.info(\"raised a custom error meassge\")\n",
    "    print(e.message)"
   ]
  },
  {
   "cell_type": "code",
   "execution_count": null,
   "id": "ed48fc46-d675-4b24-88e5-74ab7eb6d97e",
   "metadata": {},
   "outputs": [],
   "source": [
    "#6\n",
    "\n",
    "class InvalidInputError(Exception):\n",
    "    \n",
    "    def __init__(self, message):\n",
    "        self.message = message\n",
    "\n",
    "def calculate_age(birth_year):\n",
    "    if birth_year < 1900 or birth_year > 2021:\n",
    "        raise InvalidInputError(\"Invalid birth year. Birth year must be between 1900 and 2021.\")\n",
    "    return 2021 - birth_year\n",
    "\n",
    "try:\n",
    "    input_year=int(input(\"Enter birth Year: \"))\n",
    "    age = calculate_age(1899)\n",
    "except InvalidInputError as e:\n",
    "    print(e.message)"
   ]
  },
  {
   "cell_type": "code",
   "execution_count": null,
   "id": "68a1a344-6be0-423a-b6db-3341739fcdd3",
   "metadata": {},
   "outputs": [],
   "source": []
  }
 ],
 "metadata": {
  "kernelspec": {
   "display_name": "Python 3 (ipykernel)",
   "language": "python",
   "name": "python3"
  },
  "language_info": {
   "codemirror_mode": {
    "name": "ipython",
    "version": 3
   },
   "file_extension": ".py",
   "mimetype": "text/x-python",
   "name": "python",
   "nbconvert_exporter": "python",
   "pygments_lexer": "ipython3",
   "version": "3.10.8"
  }
 },
 "nbformat": 4,
 "nbformat_minor": 5
}
